{
  "nbformat": 4,
  "nbformat_minor": 0,
  "metadata": {
    "colab": {
      "provenance": [],
      "include_colab_link": true
    },
    "kernelspec": {
      "name": "python3",
      "display_name": "Python 3"
    },
    "language_info": {
      "name": "python"
    }
  },
  "cells": [
    {
      "cell_type": "markdown",
      "metadata": {
        "id": "view-in-github",
        "colab_type": "text"
      },
      "source": [
        "<a href=\"https://colab.research.google.com/github/matbmotta/evasao_escolar_supervisionado/blob/main/Evasao_Supervisionado2.ipynb\" target=\"_parent\"><img src=\"https://colab.research.google.com/assets/colab-badge.svg\" alt=\"Open In Colab\"/></a>"
      ]
    },
    {
      "cell_type": "markdown",
      "source": [
        "# **Árvores de Decisão**"
      ],
      "metadata": {
        "id": "Vw28qWubPbbg"
      }
    },
    {
      "cell_type": "markdown",
      "source": [
        "Este projeto tem por objetivo desenvolver um algoritmo de Machine Learning para prever a tendência de um aluno se tornar evadido com base em alguns fatores acadêmicos e sociais. "
      ],
      "metadata": {
        "id": "J5yF1Y5GPilc"
      }
    },
    {
      "cell_type": "markdown",
      "source": [
        "Os dados foram extraídos do portal https://www.gov.br/inep/pt-br/acesso-a-informacao/dados-abertos/microdados . Para este estudo serão considerados os anos de 2012, 2013, 2014, 2015 e 2016."
      ],
      "metadata": {
        "id": "jvb9vLqGPxhF"
      }
    },
    {
      "cell_type": "markdown",
      "source": [
        "# Pré-processamento"
      ],
      "metadata": {
        "id": "GlhzTOwoQPXn"
      }
    },
    {
      "cell_type": "code",
      "source": [
        "import pandas as pd"
      ],
      "metadata": {
        "id": "HwADnTmNPwhQ"
      },
      "execution_count": 1,
      "outputs": []
    },
    {
      "cell_type": "code",
      "execution_count": 2,
      "metadata": {
        "colab": {
          "base_uri": "https://localhost:8080/"
        },
        "id": "Nf-iN-wsPS_G",
        "outputId": "496f1e9a-eba5-4b30-c245-2060c011afb9"
      },
      "outputs": [
        {
          "output_type": "stream",
          "name": "stdout",
          "text": [
            "Mounted at /content/drive\n"
          ]
        }
      ],
      "source": [
        "from google.colab import drive\n",
        "drive.mount('/content/drive')"
      ]
    },
    {
      "cell_type": "markdown",
      "source": [
        "Lendo os datasets previamente limpos"
      ],
      "metadata": {
        "id": "wev3dxUVQnf1"
      }
    },
    {
      "cell_type": "code",
      "source": [
        "m12 = pd.read_csv('/content/drive/MyDrive/DataScienceUP/EvasaoEscolar/Datasets/DatasetsFiltrados/evasão_12.csv')\n",
        "m13 = pd.read_csv('/content/drive/MyDrive/DataScienceUP/EvasaoEscolar/Datasets/DatasetsFiltrados/evasão_13.csv')\n",
        "m14 = pd.read_csv('/content/drive/MyDrive/DataScienceUP/EvasaoEscolar/Datasets/DatasetsFiltrados/evasão_14.csv')\n",
        "m15 = pd.read_csv('/content/drive/MyDrive/DataScienceUP/EvasaoEscolar/Datasets/DatasetsFiltrados/evasão_15.csv')\n",
        "m16 = pd.read_csv('/content/drive/MyDrive/DataScienceUP/EvasaoEscolar/Datasets/DatasetsFiltrados/evasão_16.csv')"
      ],
      "metadata": {
        "id": "EDU8CQVMQwBO"
      },
      "execution_count": 3,
      "outputs": []
    },
    {
      "cell_type": "code",
      "source": [
        "m12.drop(columns=['Unnamed: 0'], inplace=True)\n",
        "m13.drop(columns=['Unnamed: 0'], inplace=True)\n",
        "m14.drop(columns=['Unnamed: 0'], inplace=True)\n",
        "m15.drop(columns=['Unnamed: 0'], inplace=True)\n",
        "m16.drop(columns=['Unnamed: 0'], inplace=True)"
      ],
      "metadata": {
        "id": "eD7W0_iEQ-Y_"
      },
      "execution_count": null,
      "outputs": []
    },
    {
      "cell_type": "code",
      "source": [
        "m12['Ano']=2012\n",
        "m13['Ano']=2013\n",
        "m14['Ano']=2014\n",
        "m15['Ano']=2015\n",
        "m16['Ano']=2016"
      ],
      "metadata": {
        "id": "CMvck16PRE41"
      },
      "execution_count": null,
      "outputs": []
    },
    {
      "cell_type": "markdown",
      "source": [
        "Concatenando os datasets em um único"
      ],
      "metadata": {
        "id": "AIYDImL2RLDu"
      }
    },
    {
      "cell_type": "code",
      "source": [
        "evasao = pd.concat([m12, m13, m14, m15, m16])"
      ],
      "metadata": {
        "id": "_VoM8lUtRKmB"
      },
      "execution_count": null,
      "outputs": []
    },
    {
      "cell_type": "code",
      "source": [
        "evasao.head()"
      ],
      "metadata": {
        "colab": {
          "base_uri": "https://localhost:8080/",
          "height": 317
        },
        "id": "YOOaLii9R-at",
        "outputId": "a58cd610-cf24-470f-fb61-f479840a2f0a"
      },
      "execution_count": null,
      "outputs": [
        {
          "output_type": "execute_result",
          "data": {
            "text/plain": [
              "             ID  Idade  Necessidade_especial  Cegueira  Baixa_visao  Surdez  \\\n",
              "0  1.100036e+11   13.0                   0.0       0.0          0.0     0.0   \n",
              "1  1.100110e+11   14.0                   0.0       0.0          0.0     0.0   \n",
              "2  1.100167e+11   12.0                   0.0       0.0          0.0     0.0   \n",
              "3  1.100174e+11   12.0                   0.0       0.0          0.0     0.0   \n",
              "4  1.100192e+11   11.0                   0.0       0.0          0.0     0.0   \n",
              "\n",
              "   Def_auditiva  Surdocegueira  Def_fisica  Def_intelectual  ...  \\\n",
              "0           0.0            0.0         0.0              0.0  ...   \n",
              "1           0.0            0.0         0.0              0.0  ...   \n",
              "2           0.0            0.0         0.0              0.0  ...   \n",
              "3           0.0            0.0         0.0              0.0  ...   \n",
              "4           0.0            0.0         0.0              0.0  ...   \n",
              "\n",
              "   Tipo_turma_Não se aplica  Tipo_turma_Unidade prisional  Localizacao_Rural  \\\n",
              "0                       1.0                           0.0                0.0   \n",
              "1                       1.0                           0.0                0.0   \n",
              "2                       1.0                           0.0                0.0   \n",
              "3                       1.0                           0.0                0.0   \n",
              "4                       1.0                           0.0                0.0   \n",
              "\n",
              "   Localizacao_Urbana  Administracao_Federal  Administracao_Municipal  \\\n",
              "0                   1                      0                        0   \n",
              "1                   1                      0                        0   \n",
              "2                   1                      0                        0   \n",
              "3                   1                      0                        1   \n",
              "4                   1                      0                        0   \n",
              "\n",
              "   Administracao_Privada   Ano Sexo_M  Unificada_Multietapa  \n",
              "0                      0  2012    NaN                   NaN  \n",
              "1                      0  2012    NaN                   NaN  \n",
              "2                      0  2012    NaN                   NaN  \n",
              "3                      0  2012    NaN                   NaN  \n",
              "4                      1  2012    NaN                   NaN  \n",
              "\n",
              "[5 rows x 43 columns]"
            ],
            "text/html": [
              "\n",
              "  <div id=\"df-ec4aa552-052b-4151-af6f-aafef9930ca9\">\n",
              "    <div class=\"colab-df-container\">\n",
              "      <div>\n",
              "<style scoped>\n",
              "    .dataframe tbody tr th:only-of-type {\n",
              "        vertical-align: middle;\n",
              "    }\n",
              "\n",
              "    .dataframe tbody tr th {\n",
              "        vertical-align: top;\n",
              "    }\n",
              "\n",
              "    .dataframe thead th {\n",
              "        text-align: right;\n",
              "    }\n",
              "</style>\n",
              "<table border=\"1\" class=\"dataframe\">\n",
              "  <thead>\n",
              "    <tr style=\"text-align: right;\">\n",
              "      <th></th>\n",
              "      <th>ID</th>\n",
              "      <th>Idade</th>\n",
              "      <th>Necessidade_especial</th>\n",
              "      <th>Cegueira</th>\n",
              "      <th>Baixa_visao</th>\n",
              "      <th>Surdez</th>\n",
              "      <th>Def_auditiva</th>\n",
              "      <th>Surdocegueira</th>\n",
              "      <th>Def_fisica</th>\n",
              "      <th>Def_intelectual</th>\n",
              "      <th>...</th>\n",
              "      <th>Tipo_turma_Não se aplica</th>\n",
              "      <th>Tipo_turma_Unidade prisional</th>\n",
              "      <th>Localizacao_Rural</th>\n",
              "      <th>Localizacao_Urbana</th>\n",
              "      <th>Administracao_Federal</th>\n",
              "      <th>Administracao_Municipal</th>\n",
              "      <th>Administracao_Privada</th>\n",
              "      <th>Ano</th>\n",
              "      <th>Sexo_M</th>\n",
              "      <th>Unificada_Multietapa</th>\n",
              "    </tr>\n",
              "  </thead>\n",
              "  <tbody>\n",
              "    <tr>\n",
              "      <th>0</th>\n",
              "      <td>1.100036e+11</td>\n",
              "      <td>13.0</td>\n",
              "      <td>0.0</td>\n",
              "      <td>0.0</td>\n",
              "      <td>0.0</td>\n",
              "      <td>0.0</td>\n",
              "      <td>0.0</td>\n",
              "      <td>0.0</td>\n",
              "      <td>0.0</td>\n",
              "      <td>0.0</td>\n",
              "      <td>...</td>\n",
              "      <td>1.0</td>\n",
              "      <td>0.0</td>\n",
              "      <td>0.0</td>\n",
              "      <td>1</td>\n",
              "      <td>0</td>\n",
              "      <td>0</td>\n",
              "      <td>0</td>\n",
              "      <td>2012</td>\n",
              "      <td>NaN</td>\n",
              "      <td>NaN</td>\n",
              "    </tr>\n",
              "    <tr>\n",
              "      <th>1</th>\n",
              "      <td>1.100110e+11</td>\n",
              "      <td>14.0</td>\n",
              "      <td>0.0</td>\n",
              "      <td>0.0</td>\n",
              "      <td>0.0</td>\n",
              "      <td>0.0</td>\n",
              "      <td>0.0</td>\n",
              "      <td>0.0</td>\n",
              "      <td>0.0</td>\n",
              "      <td>0.0</td>\n",
              "      <td>...</td>\n",
              "      <td>1.0</td>\n",
              "      <td>0.0</td>\n",
              "      <td>0.0</td>\n",
              "      <td>1</td>\n",
              "      <td>0</td>\n",
              "      <td>0</td>\n",
              "      <td>0</td>\n",
              "      <td>2012</td>\n",
              "      <td>NaN</td>\n",
              "      <td>NaN</td>\n",
              "    </tr>\n",
              "    <tr>\n",
              "      <th>2</th>\n",
              "      <td>1.100167e+11</td>\n",
              "      <td>12.0</td>\n",
              "      <td>0.0</td>\n",
              "      <td>0.0</td>\n",
              "      <td>0.0</td>\n",
              "      <td>0.0</td>\n",
              "      <td>0.0</td>\n",
              "      <td>0.0</td>\n",
              "      <td>0.0</td>\n",
              "      <td>0.0</td>\n",
              "      <td>...</td>\n",
              "      <td>1.0</td>\n",
              "      <td>0.0</td>\n",
              "      <td>0.0</td>\n",
              "      <td>1</td>\n",
              "      <td>0</td>\n",
              "      <td>0</td>\n",
              "      <td>0</td>\n",
              "      <td>2012</td>\n",
              "      <td>NaN</td>\n",
              "      <td>NaN</td>\n",
              "    </tr>\n",
              "    <tr>\n",
              "      <th>3</th>\n",
              "      <td>1.100174e+11</td>\n",
              "      <td>12.0</td>\n",
              "      <td>0.0</td>\n",
              "      <td>0.0</td>\n",
              "      <td>0.0</td>\n",
              "      <td>0.0</td>\n",
              "      <td>0.0</td>\n",
              "      <td>0.0</td>\n",
              "      <td>0.0</td>\n",
              "      <td>0.0</td>\n",
              "      <td>...</td>\n",
              "      <td>1.0</td>\n",
              "      <td>0.0</td>\n",
              "      <td>0.0</td>\n",
              "      <td>1</td>\n",
              "      <td>0</td>\n",
              "      <td>1</td>\n",
              "      <td>0</td>\n",
              "      <td>2012</td>\n",
              "      <td>NaN</td>\n",
              "      <td>NaN</td>\n",
              "    </tr>\n",
              "    <tr>\n",
              "      <th>4</th>\n",
              "      <td>1.100192e+11</td>\n",
              "      <td>11.0</td>\n",
              "      <td>0.0</td>\n",
              "      <td>0.0</td>\n",
              "      <td>0.0</td>\n",
              "      <td>0.0</td>\n",
              "      <td>0.0</td>\n",
              "      <td>0.0</td>\n",
              "      <td>0.0</td>\n",
              "      <td>0.0</td>\n",
              "      <td>...</td>\n",
              "      <td>1.0</td>\n",
              "      <td>0.0</td>\n",
              "      <td>0.0</td>\n",
              "      <td>1</td>\n",
              "      <td>0</td>\n",
              "      <td>0</td>\n",
              "      <td>1</td>\n",
              "      <td>2012</td>\n",
              "      <td>NaN</td>\n",
              "      <td>NaN</td>\n",
              "    </tr>\n",
              "  </tbody>\n",
              "</table>\n",
              "<p>5 rows × 43 columns</p>\n",
              "</div>\n",
              "      <button class=\"colab-df-convert\" onclick=\"convertToInteractive('df-ec4aa552-052b-4151-af6f-aafef9930ca9')\"\n",
              "              title=\"Convert this dataframe to an interactive table.\"\n",
              "              style=\"display:none;\">\n",
              "        \n",
              "  <svg xmlns=\"http://www.w3.org/2000/svg\" height=\"24px\"viewBox=\"0 0 24 24\"\n",
              "       width=\"24px\">\n",
              "    <path d=\"M0 0h24v24H0V0z\" fill=\"none\"/>\n",
              "    <path d=\"M18.56 5.44l.94 2.06.94-2.06 2.06-.94-2.06-.94-.94-2.06-.94 2.06-2.06.94zm-11 1L8.5 8.5l.94-2.06 2.06-.94-2.06-.94L8.5 2.5l-.94 2.06-2.06.94zm10 10l.94 2.06.94-2.06 2.06-.94-2.06-.94-.94-2.06-.94 2.06-2.06.94z\"/><path d=\"M17.41 7.96l-1.37-1.37c-.4-.4-.92-.59-1.43-.59-.52 0-1.04.2-1.43.59L10.3 9.45l-7.72 7.72c-.78.78-.78 2.05 0 2.83L4 21.41c.39.39.9.59 1.41.59.51 0 1.02-.2 1.41-.59l7.78-7.78 2.81-2.81c.8-.78.8-2.07 0-2.86zM5.41 20L4 18.59l7.72-7.72 1.47 1.35L5.41 20z\"/>\n",
              "  </svg>\n",
              "      </button>\n",
              "      \n",
              "  <style>\n",
              "    .colab-df-container {\n",
              "      display:flex;\n",
              "      flex-wrap:wrap;\n",
              "      gap: 12px;\n",
              "    }\n",
              "\n",
              "    .colab-df-convert {\n",
              "      background-color: #E8F0FE;\n",
              "      border: none;\n",
              "      border-radius: 50%;\n",
              "      cursor: pointer;\n",
              "      display: none;\n",
              "      fill: #1967D2;\n",
              "      height: 32px;\n",
              "      padding: 0 0 0 0;\n",
              "      width: 32px;\n",
              "    }\n",
              "\n",
              "    .colab-df-convert:hover {\n",
              "      background-color: #E2EBFA;\n",
              "      box-shadow: 0px 1px 2px rgba(60, 64, 67, 0.3), 0px 1px 3px 1px rgba(60, 64, 67, 0.15);\n",
              "      fill: #174EA6;\n",
              "    }\n",
              "\n",
              "    [theme=dark] .colab-df-convert {\n",
              "      background-color: #3B4455;\n",
              "      fill: #D2E3FC;\n",
              "    }\n",
              "\n",
              "    [theme=dark] .colab-df-convert:hover {\n",
              "      background-color: #434B5C;\n",
              "      box-shadow: 0px 1px 3px 1px rgba(0, 0, 0, 0.15);\n",
              "      filter: drop-shadow(0px 1px 2px rgba(0, 0, 0, 0.3));\n",
              "      fill: #FFFFFF;\n",
              "    }\n",
              "  </style>\n",
              "\n",
              "      <script>\n",
              "        const buttonEl =\n",
              "          document.querySelector('#df-ec4aa552-052b-4151-af6f-aafef9930ca9 button.colab-df-convert');\n",
              "        buttonEl.style.display =\n",
              "          google.colab.kernel.accessAllowed ? 'block' : 'none';\n",
              "\n",
              "        async function convertToInteractive(key) {\n",
              "          const element = document.querySelector('#df-ec4aa552-052b-4151-af6f-aafef9930ca9');\n",
              "          const dataTable =\n",
              "            await google.colab.kernel.invokeFunction('convertToInteractive',\n",
              "                                                     [key], {});\n",
              "          if (!dataTable) return;\n",
              "\n",
              "          const docLinkHtml = 'Like what you see? Visit the ' +\n",
              "            '<a target=\"_blank\" href=https://colab.research.google.com/notebooks/data_table.ipynb>data table notebook</a>'\n",
              "            + ' to learn more about interactive tables.';\n",
              "          element.innerHTML = '';\n",
              "          dataTable['output_type'] = 'display_data';\n",
              "          await google.colab.output.renderOutput(dataTable, element);\n",
              "          const docLink = document.createElement('div');\n",
              "          docLink.innerHTML = docLinkHtml;\n",
              "          element.appendChild(docLink);\n",
              "        }\n",
              "      </script>\n",
              "    </div>\n",
              "  </div>\n",
              "  "
            ]
          },
          "metadata": {},
          "execution_count": 7
        }
      ]
    },
    {
      "cell_type": "markdown",
      "source": [
        "Listando as colunas do dataset"
      ],
      "metadata": {
        "id": "d5IZ58-lSOpB"
      }
    },
    {
      "cell_type": "code",
      "source": [
        "evasao.columns.tolist()"
      ],
      "metadata": {
        "colab": {
          "base_uri": "https://localhost:8080/"
        },
        "id": "k8ihWqrJSQ2V",
        "outputId": "4b028a31-42ab-499d-d47f-f07496680e15"
      },
      "execution_count": null,
      "outputs": [
        {
          "output_type": "execute_result",
          "data": {
            "text/plain": [
              "['ID',\n",
              " 'Idade',\n",
              " 'Necessidade_especial',\n",
              " 'Cegueira',\n",
              " 'Baixa_visao',\n",
              " 'Surdez',\n",
              " 'Def_auditiva',\n",
              " 'Surdocegueira',\n",
              " 'Def_fisica',\n",
              " 'Def_intelectual',\n",
              " 'Def_multipla',\n",
              " 'Autismo',\n",
              " 'Asperger',\n",
              " 'Rett',\n",
              " 'Transtorno_DI',\n",
              " 'Superdotacao',\n",
              " 'Etapa_ensino',\n",
              " 'ID_escola',\n",
              " 'Status',\n",
              " 'Etnia_Branca',\n",
              " 'Etnia_Indígena',\n",
              " 'Etnia_Não Declarada',\n",
              " 'Etnia_Parda',\n",
              " 'Etnia_Preta',\n",
              " 'Nacionalidade_Brasileiro',\n",
              " 'Nacionalidade_Extrangeiro',\n",
              " 'Nacionalidade_Naturalizado',\n",
              " 'Zona_res_Urbana',\n",
              " 'Outro_local_aula_Hospital',\n",
              " 'Outro_local_aula_Não recebe',\n",
              " 'Unificada_Multi',\n",
              " 'Unificada_Não',\n",
              " 'Tipo_turma_Classe Hospitalar',\n",
              " 'Tipo_turma_Não se aplica',\n",
              " 'Tipo_turma_Unidade prisional',\n",
              " 'Localizacao_Rural',\n",
              " 'Localizacao_Urbana',\n",
              " 'Administracao_Federal',\n",
              " 'Administracao_Municipal',\n",
              " 'Administracao_Privada',\n",
              " 'Ano',\n",
              " 'Sexo_M',\n",
              " 'Unificada_Multietapa']"
            ]
          },
          "metadata": {},
          "execution_count": 8
        }
      ]
    },
    {
      "cell_type": "code",
      "source": [
        "evasao.shape"
      ],
      "metadata": {
        "colab": {
          "base_uri": "https://localhost:8080/"
        },
        "id": "e1ETUnnDSj07",
        "outputId": "c1fc8ceb-a294-4478-83fd-ff17324ca8b9"
      },
      "execution_count": null,
      "outputs": [
        {
          "output_type": "execute_result",
          "data": {
            "text/plain": [
              "(829709, 43)"
            ]
          },
          "metadata": {},
          "execution_count": 9
        }
      ]
    },
    {
      "cell_type": "markdown",
      "source": [
        "#Transformando as variáveis categóricas nominais em variáveis categóricas ordinais"
      ],
      "metadata": {
        "id": "U631vw6-UX2W"
      }
    },
    {
      "cell_type": "code",
      "source": [
        "evasao2 = pd.DataFrame.copy(evasao)"
      ],
      "metadata": {
        "id": "j4GUAkQFUba0"
      },
      "execution_count": null,
      "outputs": []
    },
    {
      "cell_type": "code",
      "source": [
        "evasao2['Status'].replace({'repetente':0, 'aprovado': 0, 'evadido': 1}, inplace=True)"
      ],
      "metadata": {
        "id": "zBOHwzzFUxnp"
      },
      "execution_count": null,
      "outputs": []
    },
    {
      "cell_type": "code",
      "source": [
        "evasao2.drop(columns=['ID',\n",
        " 'ID_escola',\n",
        " 'Nacionalidade_Brasileiro',\n",
        " 'Nacionalidade_Extrangeiro',\n",
        " 'Nacionalidade_Naturalizado',\n",
        " 'Zona_res_Urbana',\n",
        " 'Outro_local_aula_Hospital',\n",
        " 'Outro_local_aula_Não recebe',\n",
        " 'Unificada_Multi',\n",
        " 'Unificada_Não',\n",
        " 'Tipo_turma_Classe Hospitalar',\n",
        " 'Tipo_turma_Não se aplica',\n",
        " 'Tipo_turma_Unidade prisional',\n",
        " 'Localizacao_Rural',\n",
        " 'Localizacao_Urbana',\n",
        " 'Administracao_Federal',\n",
        " 'Administracao_Municipal',\n",
        " 'Administracao_Privada',\n",
        " 'Ano',\n",
        " 'Sexo_M',\n",
        " 'Necessidade_especial',\n",
        " 'Cegueira',\n",
        " 'Baixa_visao',\n",
        " 'Surdez',\n",
        " 'Def_auditiva',\n",
        " 'Surdocegueira',\n",
        " 'Def_fisica',\n",
        " 'Def_intelectual',\n",
        " 'Def_multipla',\n",
        " 'Autismo',\n",
        " 'Asperger',\n",
        " 'Rett',\n",
        " 'Transtorno_DI',\n",
        " 'Unificada_Multietapa'], inplace=True)"
      ],
      "metadata": {
        "id": "U2zvNWtsdQ_P"
      },
      "execution_count": null,
      "outputs": []
    },
    {
      "cell_type": "code",
      "source": [
        "evasao2.head()"
      ],
      "metadata": {
        "colab": {
          "base_uri": "https://localhost:8080/",
          "height": 206
        },
        "id": "oEjQZKTWVD4u",
        "outputId": "a11eb010-11fc-44ae-f2bb-2d73e73ecf1b"
      },
      "execution_count": null,
      "outputs": [
        {
          "output_type": "execute_result",
          "data": {
            "text/plain": [
              "   Idade  Superdotacao  Etapa_ensino  Status  Etnia_Branca  Etnia_Indígena  \\\n",
              "0   13.0           0.0           8.0       0             0               0   \n",
              "1   14.0           0.0           6.0       1             1               0   \n",
              "2   12.0           0.0           7.0       0             1               0   \n",
              "3   12.0           0.0           5.0       1             1               0   \n",
              "4   11.0           0.0           6.0       0             0               0   \n",
              "\n",
              "   Etnia_Não Declarada  Etnia_Parda  Etnia_Preta  \n",
              "0                    0            1            0  \n",
              "1                    0            0            0  \n",
              "2                    0            0            0  \n",
              "3                    0            0            0  \n",
              "4                    1            0            0  "
            ],
            "text/html": [
              "\n",
              "  <div id=\"df-21b5d104-af9f-4cb4-a984-e2eeb9da421c\">\n",
              "    <div class=\"colab-df-container\">\n",
              "      <div>\n",
              "<style scoped>\n",
              "    .dataframe tbody tr th:only-of-type {\n",
              "        vertical-align: middle;\n",
              "    }\n",
              "\n",
              "    .dataframe tbody tr th {\n",
              "        vertical-align: top;\n",
              "    }\n",
              "\n",
              "    .dataframe thead th {\n",
              "        text-align: right;\n",
              "    }\n",
              "</style>\n",
              "<table border=\"1\" class=\"dataframe\">\n",
              "  <thead>\n",
              "    <tr style=\"text-align: right;\">\n",
              "      <th></th>\n",
              "      <th>Idade</th>\n",
              "      <th>Superdotacao</th>\n",
              "      <th>Etapa_ensino</th>\n",
              "      <th>Status</th>\n",
              "      <th>Etnia_Branca</th>\n",
              "      <th>Etnia_Indígena</th>\n",
              "      <th>Etnia_Não Declarada</th>\n",
              "      <th>Etnia_Parda</th>\n",
              "      <th>Etnia_Preta</th>\n",
              "    </tr>\n",
              "  </thead>\n",
              "  <tbody>\n",
              "    <tr>\n",
              "      <th>0</th>\n",
              "      <td>13.0</td>\n",
              "      <td>0.0</td>\n",
              "      <td>8.0</td>\n",
              "      <td>0</td>\n",
              "      <td>0</td>\n",
              "      <td>0</td>\n",
              "      <td>0</td>\n",
              "      <td>1</td>\n",
              "      <td>0</td>\n",
              "    </tr>\n",
              "    <tr>\n",
              "      <th>1</th>\n",
              "      <td>14.0</td>\n",
              "      <td>0.0</td>\n",
              "      <td>6.0</td>\n",
              "      <td>1</td>\n",
              "      <td>1</td>\n",
              "      <td>0</td>\n",
              "      <td>0</td>\n",
              "      <td>0</td>\n",
              "      <td>0</td>\n",
              "    </tr>\n",
              "    <tr>\n",
              "      <th>2</th>\n",
              "      <td>12.0</td>\n",
              "      <td>0.0</td>\n",
              "      <td>7.0</td>\n",
              "      <td>0</td>\n",
              "      <td>1</td>\n",
              "      <td>0</td>\n",
              "      <td>0</td>\n",
              "      <td>0</td>\n",
              "      <td>0</td>\n",
              "    </tr>\n",
              "    <tr>\n",
              "      <th>3</th>\n",
              "      <td>12.0</td>\n",
              "      <td>0.0</td>\n",
              "      <td>5.0</td>\n",
              "      <td>1</td>\n",
              "      <td>1</td>\n",
              "      <td>0</td>\n",
              "      <td>0</td>\n",
              "      <td>0</td>\n",
              "      <td>0</td>\n",
              "    </tr>\n",
              "    <tr>\n",
              "      <th>4</th>\n",
              "      <td>11.0</td>\n",
              "      <td>0.0</td>\n",
              "      <td>6.0</td>\n",
              "      <td>0</td>\n",
              "      <td>0</td>\n",
              "      <td>0</td>\n",
              "      <td>1</td>\n",
              "      <td>0</td>\n",
              "      <td>0</td>\n",
              "    </tr>\n",
              "  </tbody>\n",
              "</table>\n",
              "</div>\n",
              "      <button class=\"colab-df-convert\" onclick=\"convertToInteractive('df-21b5d104-af9f-4cb4-a984-e2eeb9da421c')\"\n",
              "              title=\"Convert this dataframe to an interactive table.\"\n",
              "              style=\"display:none;\">\n",
              "        \n",
              "  <svg xmlns=\"http://www.w3.org/2000/svg\" height=\"24px\"viewBox=\"0 0 24 24\"\n",
              "       width=\"24px\">\n",
              "    <path d=\"M0 0h24v24H0V0z\" fill=\"none\"/>\n",
              "    <path d=\"M18.56 5.44l.94 2.06.94-2.06 2.06-.94-2.06-.94-.94-2.06-.94 2.06-2.06.94zm-11 1L8.5 8.5l.94-2.06 2.06-.94-2.06-.94L8.5 2.5l-.94 2.06-2.06.94zm10 10l.94 2.06.94-2.06 2.06-.94-2.06-.94-.94-2.06-.94 2.06-2.06.94z\"/><path d=\"M17.41 7.96l-1.37-1.37c-.4-.4-.92-.59-1.43-.59-.52 0-1.04.2-1.43.59L10.3 9.45l-7.72 7.72c-.78.78-.78 2.05 0 2.83L4 21.41c.39.39.9.59 1.41.59.51 0 1.02-.2 1.41-.59l7.78-7.78 2.81-2.81c.8-.78.8-2.07 0-2.86zM5.41 20L4 18.59l7.72-7.72 1.47 1.35L5.41 20z\"/>\n",
              "  </svg>\n",
              "      </button>\n",
              "      \n",
              "  <style>\n",
              "    .colab-df-container {\n",
              "      display:flex;\n",
              "      flex-wrap:wrap;\n",
              "      gap: 12px;\n",
              "    }\n",
              "\n",
              "    .colab-df-convert {\n",
              "      background-color: #E8F0FE;\n",
              "      border: none;\n",
              "      border-radius: 50%;\n",
              "      cursor: pointer;\n",
              "      display: none;\n",
              "      fill: #1967D2;\n",
              "      height: 32px;\n",
              "      padding: 0 0 0 0;\n",
              "      width: 32px;\n",
              "    }\n",
              "\n",
              "    .colab-df-convert:hover {\n",
              "      background-color: #E2EBFA;\n",
              "      box-shadow: 0px 1px 2px rgba(60, 64, 67, 0.3), 0px 1px 3px 1px rgba(60, 64, 67, 0.15);\n",
              "      fill: #174EA6;\n",
              "    }\n",
              "\n",
              "    [theme=dark] .colab-df-convert {\n",
              "      background-color: #3B4455;\n",
              "      fill: #D2E3FC;\n",
              "    }\n",
              "\n",
              "    [theme=dark] .colab-df-convert:hover {\n",
              "      background-color: #434B5C;\n",
              "      box-shadow: 0px 1px 3px 1px rgba(0, 0, 0, 0.15);\n",
              "      filter: drop-shadow(0px 1px 2px rgba(0, 0, 0, 0.3));\n",
              "      fill: #FFFFFF;\n",
              "    }\n",
              "  </style>\n",
              "\n",
              "      <script>\n",
              "        const buttonEl =\n",
              "          document.querySelector('#df-21b5d104-af9f-4cb4-a984-e2eeb9da421c button.colab-df-convert');\n",
              "        buttonEl.style.display =\n",
              "          google.colab.kernel.accessAllowed ? 'block' : 'none';\n",
              "\n",
              "        async function convertToInteractive(key) {\n",
              "          const element = document.querySelector('#df-21b5d104-af9f-4cb4-a984-e2eeb9da421c');\n",
              "          const dataTable =\n",
              "            await google.colab.kernel.invokeFunction('convertToInteractive',\n",
              "                                                     [key], {});\n",
              "          if (!dataTable) return;\n",
              "\n",
              "          const docLinkHtml = 'Like what you see? Visit the ' +\n",
              "            '<a target=\"_blank\" href=https://colab.research.google.com/notebooks/data_table.ipynb>data table notebook</a>'\n",
              "            + ' to learn more about interactive tables.';\n",
              "          element.innerHTML = '';\n",
              "          dataTable['output_type'] = 'display_data';\n",
              "          await google.colab.output.renderOutput(dataTable, element);\n",
              "          const docLink = document.createElement('div');\n",
              "          docLink.innerHTML = docLinkHtml;\n",
              "          element.appendChild(docLink);\n",
              "        }\n",
              "      </script>\n",
              "    </div>\n",
              "  </div>\n",
              "  "
            ]
          },
          "metadata": {},
          "execution_count": 13
        }
      ]
    },
    {
      "cell_type": "code",
      "source": [
        "evasao2.dtypes"
      ],
      "metadata": {
        "colab": {
          "base_uri": "https://localhost:8080/"
        },
        "id": "m0CBrYhjVLYH",
        "outputId": "6a4e9d19-881c-43d1-d822-f99fca09b5e5"
      },
      "execution_count": null,
      "outputs": [
        {
          "output_type": "execute_result",
          "data": {
            "text/plain": [
              "Idade                  float64\n",
              "Superdotacao           float64\n",
              "Etapa_ensino           float64\n",
              "Status                   int64\n",
              "Etnia_Branca             int64\n",
              "Etnia_Indígena           int64\n",
              "Etnia_Não Declarada      int64\n",
              "Etnia_Parda              int64\n",
              "Etnia_Preta              int64\n",
              "dtype: object"
            ]
          },
          "metadata": {},
          "execution_count": 14
        }
      ]
    },
    {
      "cell_type": "code",
      "source": [
        "evasao2.shape"
      ],
      "metadata": {
        "colab": {
          "base_uri": "https://localhost:8080/"
        },
        "id": "1bK6EZKFViPE",
        "outputId": "8d8f371a-6fd3-4f65-dee7-153447d9c94d"
      },
      "execution_count": null,
      "outputs": [
        {
          "output_type": "execute_result",
          "data": {
            "text/plain": [
              "(829709, 9)"
            ]
          },
          "metadata": {},
          "execution_count": 15
        }
      ]
    },
    {
      "cell_type": "markdown",
      "source": [
        "# Atributos previsores e alvo"
      ],
      "metadata": {
        "id": "TwKe0qLNVrHG"
      }
    },
    {
      "cell_type": "code",
      "source": [
        "previsores = evasao2.iloc[:, 0:11].values"
      ],
      "metadata": {
        "id": "8e-wIIcpV0XX"
      },
      "execution_count": null,
      "outputs": []
    },
    {
      "cell_type": "code",
      "source": [
        "previsores"
      ],
      "metadata": {
        "colab": {
          "base_uri": "https://localhost:8080/"
        },
        "id": "Xr1lTi4zV8Xu",
        "outputId": "c4db7782-15a4-4a91-9aaf-11a107ed544f"
      },
      "execution_count": null,
      "outputs": [
        {
          "output_type": "execute_result",
          "data": {
            "text/plain": [
              "array([[13.,  0.,  8., ...,  0.,  1.,  0.],\n",
              "       [14.,  0.,  6., ...,  0.,  0.,  0.],\n",
              "       [12.,  0.,  7., ...,  0.,  0.,  0.],\n",
              "       ...,\n",
              "       [ 6.,  0.,  1., ...,  0.,  0.,  0.],\n",
              "       [ 7.,  0.,  2., ...,  0.,  0.,  0.],\n",
              "       [ 6.,  0.,  1., ...,  0.,  0.,  0.]])"
            ]
          },
          "metadata": {},
          "execution_count": 17
        }
      ]
    },
    {
      "cell_type": "code",
      "source": [
        "previsores.shape"
      ],
      "metadata": {
        "colab": {
          "base_uri": "https://localhost:8080/"
        },
        "id": "tbBltPxKWUQB",
        "outputId": "7182bff4-cbbc-45a5-ca13-672faad94d0f"
      },
      "execution_count": null,
      "outputs": [
        {
          "output_type": "execute_result",
          "data": {
            "text/plain": [
              "(829709, 9)"
            ]
          },
          "metadata": {},
          "execution_count": 18
        }
      ]
    },
    {
      "cell_type": "code",
      "source": [
        "alvo = evasao2.iloc[:, 8].values"
      ],
      "metadata": {
        "id": "hvnLkhy-WbVO"
      },
      "execution_count": null,
      "outputs": []
    },
    {
      "cell_type": "code",
      "source": [
        "alvo"
      ],
      "metadata": {
        "colab": {
          "base_uri": "https://localhost:8080/"
        },
        "id": "1TddXdmzWgmu",
        "outputId": "940d90c7-d324-4202-9e41-3f7aed14453e"
      },
      "execution_count": null,
      "outputs": [
        {
          "output_type": "execute_result",
          "data": {
            "text/plain": [
              "array([0, 0, 0, ..., 0, 0, 0])"
            ]
          },
          "metadata": {},
          "execution_count": 24
        }
      ]
    },
    {
      "cell_type": "code",
      "source": [
        "alvo.shape"
      ],
      "metadata": {
        "colab": {
          "base_uri": "https://localhost:8080/"
        },
        "id": "HNCFM-q_Wm2E",
        "outputId": "8c17d8d6-f478-4518-d06d-defad94a5d28"
      },
      "execution_count": null,
      "outputs": [
        {
          "output_type": "execute_result",
          "data": {
            "text/plain": [
              "(829709,)"
            ]
          },
          "metadata": {},
          "execution_count": 25
        }
      ]
    },
    {
      "cell_type": "markdown",
      "source": [
        "# Análise das escalas dos atributos (Escalonamento)"
      ],
      "metadata": {
        "id": "d4CkszbpW4KZ"
      }
    },
    {
      "cell_type": "markdown",
      "source": [
        "alvo = variável que se pretende atingir (evadido ou não).\n",
        "\n",
        "previsores = conjunto de variáveis previsoras com as variáveis categóricas transformadas em numéricas manualmente, sem escalonar.\n",
        "\n",
        "previsores_esc = conjunto de variáveis previsoras com as variáveis categóricas transformadas em numéricas, escalonada."
      ],
      "metadata": {
        "id": "13RS-ovTX28q"
      }
    },
    {
      "cell_type": "markdown",
      "source": [
        "Padronização"
      ],
      "metadata": {
        "id": "taU3PtskW91L"
      }
    },
    {
      "cell_type": "code",
      "source": [
        "evasao2.describe()"
      ],
      "metadata": {
        "colab": {
          "base_uri": "https://localhost:8080/",
          "height": 300
        },
        "id": "1S2otM3jW5dJ",
        "outputId": "d3481af9-6741-4742-e190-5280cb16c7d2"
      },
      "execution_count": null,
      "outputs": [
        {
          "output_type": "execute_result",
          "data": {
            "text/plain": [
              "               Idade   Superdotacao   Etapa_ensino         Status  \\\n",
              "count  829709.000000  829709.000000  829709.000000  829709.000000   \n",
              "mean       10.066539       0.000833       4.630772       0.081774   \n",
              "std         2.670104       0.028847       2.328576       0.274021   \n",
              "min         1.000000       0.000000       1.000000       0.000000   \n",
              "25%         8.000000       0.000000       3.000000       0.000000   \n",
              "50%        10.000000       0.000000       5.000000       0.000000   \n",
              "75%        12.000000       0.000000       7.000000       0.000000   \n",
              "max        66.000000       1.000000       8.000000       1.000000   \n",
              "\n",
              "        Etnia_Branca  Etnia_Indígena  Etnia_Não Declarada    Etnia_Parda  \\\n",
              "count  829709.000000   829709.000000        829709.000000  829709.000000   \n",
              "mean        0.646578        0.000958             0.238241       0.098819   \n",
              "std         0.478032        0.030939             0.426008       0.298419   \n",
              "min         0.000000        0.000000             0.000000       0.000000   \n",
              "25%         0.000000        0.000000             0.000000       0.000000   \n",
              "50%         1.000000        0.000000             0.000000       0.000000   \n",
              "75%         1.000000        0.000000             0.000000       0.000000   \n",
              "max         1.000000        1.000000             1.000000       1.000000   \n",
              "\n",
              "         Etnia_Preta  \n",
              "count  829709.000000  \n",
              "mean        0.010495  \n",
              "std         0.101907  \n",
              "min         0.000000  \n",
              "25%         0.000000  \n",
              "50%         0.000000  \n",
              "75%         0.000000  \n",
              "max         1.000000  "
            ],
            "text/html": [
              "\n",
              "  <div id=\"df-388fa903-11fa-4571-9b17-15880c410698\">\n",
              "    <div class=\"colab-df-container\">\n",
              "      <div>\n",
              "<style scoped>\n",
              "    .dataframe tbody tr th:only-of-type {\n",
              "        vertical-align: middle;\n",
              "    }\n",
              "\n",
              "    .dataframe tbody tr th {\n",
              "        vertical-align: top;\n",
              "    }\n",
              "\n",
              "    .dataframe thead th {\n",
              "        text-align: right;\n",
              "    }\n",
              "</style>\n",
              "<table border=\"1\" class=\"dataframe\">\n",
              "  <thead>\n",
              "    <tr style=\"text-align: right;\">\n",
              "      <th></th>\n",
              "      <th>Idade</th>\n",
              "      <th>Superdotacao</th>\n",
              "      <th>Etapa_ensino</th>\n",
              "      <th>Status</th>\n",
              "      <th>Etnia_Branca</th>\n",
              "      <th>Etnia_Indígena</th>\n",
              "      <th>Etnia_Não Declarada</th>\n",
              "      <th>Etnia_Parda</th>\n",
              "      <th>Etnia_Preta</th>\n",
              "    </tr>\n",
              "  </thead>\n",
              "  <tbody>\n",
              "    <tr>\n",
              "      <th>count</th>\n",
              "      <td>829709.000000</td>\n",
              "      <td>829709.000000</td>\n",
              "      <td>829709.000000</td>\n",
              "      <td>829709.000000</td>\n",
              "      <td>829709.000000</td>\n",
              "      <td>829709.000000</td>\n",
              "      <td>829709.000000</td>\n",
              "      <td>829709.000000</td>\n",
              "      <td>829709.000000</td>\n",
              "    </tr>\n",
              "    <tr>\n",
              "      <th>mean</th>\n",
              "      <td>10.066539</td>\n",
              "      <td>0.000833</td>\n",
              "      <td>4.630772</td>\n",
              "      <td>0.081774</td>\n",
              "      <td>0.646578</td>\n",
              "      <td>0.000958</td>\n",
              "      <td>0.238241</td>\n",
              "      <td>0.098819</td>\n",
              "      <td>0.010495</td>\n",
              "    </tr>\n",
              "    <tr>\n",
              "      <th>std</th>\n",
              "      <td>2.670104</td>\n",
              "      <td>0.028847</td>\n",
              "      <td>2.328576</td>\n",
              "      <td>0.274021</td>\n",
              "      <td>0.478032</td>\n",
              "      <td>0.030939</td>\n",
              "      <td>0.426008</td>\n",
              "      <td>0.298419</td>\n",
              "      <td>0.101907</td>\n",
              "    </tr>\n",
              "    <tr>\n",
              "      <th>min</th>\n",
              "      <td>1.000000</td>\n",
              "      <td>0.000000</td>\n",
              "      <td>1.000000</td>\n",
              "      <td>0.000000</td>\n",
              "      <td>0.000000</td>\n",
              "      <td>0.000000</td>\n",
              "      <td>0.000000</td>\n",
              "      <td>0.000000</td>\n",
              "      <td>0.000000</td>\n",
              "    </tr>\n",
              "    <tr>\n",
              "      <th>25%</th>\n",
              "      <td>8.000000</td>\n",
              "      <td>0.000000</td>\n",
              "      <td>3.000000</td>\n",
              "      <td>0.000000</td>\n",
              "      <td>0.000000</td>\n",
              "      <td>0.000000</td>\n",
              "      <td>0.000000</td>\n",
              "      <td>0.000000</td>\n",
              "      <td>0.000000</td>\n",
              "    </tr>\n",
              "    <tr>\n",
              "      <th>50%</th>\n",
              "      <td>10.000000</td>\n",
              "      <td>0.000000</td>\n",
              "      <td>5.000000</td>\n",
              "      <td>0.000000</td>\n",
              "      <td>1.000000</td>\n",
              "      <td>0.000000</td>\n",
              "      <td>0.000000</td>\n",
              "      <td>0.000000</td>\n",
              "      <td>0.000000</td>\n",
              "    </tr>\n",
              "    <tr>\n",
              "      <th>75%</th>\n",
              "      <td>12.000000</td>\n",
              "      <td>0.000000</td>\n",
              "      <td>7.000000</td>\n",
              "      <td>0.000000</td>\n",
              "      <td>1.000000</td>\n",
              "      <td>0.000000</td>\n",
              "      <td>0.000000</td>\n",
              "      <td>0.000000</td>\n",
              "      <td>0.000000</td>\n",
              "    </tr>\n",
              "    <tr>\n",
              "      <th>max</th>\n",
              "      <td>66.000000</td>\n",
              "      <td>1.000000</td>\n",
              "      <td>8.000000</td>\n",
              "      <td>1.000000</td>\n",
              "      <td>1.000000</td>\n",
              "      <td>1.000000</td>\n",
              "      <td>1.000000</td>\n",
              "      <td>1.000000</td>\n",
              "      <td>1.000000</td>\n",
              "    </tr>\n",
              "  </tbody>\n",
              "</table>\n",
              "</div>\n",
              "      <button class=\"colab-df-convert\" onclick=\"convertToInteractive('df-388fa903-11fa-4571-9b17-15880c410698')\"\n",
              "              title=\"Convert this dataframe to an interactive table.\"\n",
              "              style=\"display:none;\">\n",
              "        \n",
              "  <svg xmlns=\"http://www.w3.org/2000/svg\" height=\"24px\"viewBox=\"0 0 24 24\"\n",
              "       width=\"24px\">\n",
              "    <path d=\"M0 0h24v24H0V0z\" fill=\"none\"/>\n",
              "    <path d=\"M18.56 5.44l.94 2.06.94-2.06 2.06-.94-2.06-.94-.94-2.06-.94 2.06-2.06.94zm-11 1L8.5 8.5l.94-2.06 2.06-.94-2.06-.94L8.5 2.5l-.94 2.06-2.06.94zm10 10l.94 2.06.94-2.06 2.06-.94-2.06-.94-.94-2.06-.94 2.06-2.06.94z\"/><path d=\"M17.41 7.96l-1.37-1.37c-.4-.4-.92-.59-1.43-.59-.52 0-1.04.2-1.43.59L10.3 9.45l-7.72 7.72c-.78.78-.78 2.05 0 2.83L4 21.41c.39.39.9.59 1.41.59.51 0 1.02-.2 1.41-.59l7.78-7.78 2.81-2.81c.8-.78.8-2.07 0-2.86zM5.41 20L4 18.59l7.72-7.72 1.47 1.35L5.41 20z\"/>\n",
              "  </svg>\n",
              "      </button>\n",
              "      \n",
              "  <style>\n",
              "    .colab-df-container {\n",
              "      display:flex;\n",
              "      flex-wrap:wrap;\n",
              "      gap: 12px;\n",
              "    }\n",
              "\n",
              "    .colab-df-convert {\n",
              "      background-color: #E8F0FE;\n",
              "      border: none;\n",
              "      border-radius: 50%;\n",
              "      cursor: pointer;\n",
              "      display: none;\n",
              "      fill: #1967D2;\n",
              "      height: 32px;\n",
              "      padding: 0 0 0 0;\n",
              "      width: 32px;\n",
              "    }\n",
              "\n",
              "    .colab-df-convert:hover {\n",
              "      background-color: #E2EBFA;\n",
              "      box-shadow: 0px 1px 2px rgba(60, 64, 67, 0.3), 0px 1px 3px 1px rgba(60, 64, 67, 0.15);\n",
              "      fill: #174EA6;\n",
              "    }\n",
              "\n",
              "    [theme=dark] .colab-df-convert {\n",
              "      background-color: #3B4455;\n",
              "      fill: #D2E3FC;\n",
              "    }\n",
              "\n",
              "    [theme=dark] .colab-df-convert:hover {\n",
              "      background-color: #434B5C;\n",
              "      box-shadow: 0px 1px 3px 1px rgba(0, 0, 0, 0.15);\n",
              "      filter: drop-shadow(0px 1px 2px rgba(0, 0, 0, 0.3));\n",
              "      fill: #FFFFFF;\n",
              "    }\n",
              "  </style>\n",
              "\n",
              "      <script>\n",
              "        const buttonEl =\n",
              "          document.querySelector('#df-388fa903-11fa-4571-9b17-15880c410698 button.colab-df-convert');\n",
              "        buttonEl.style.display =\n",
              "          google.colab.kernel.accessAllowed ? 'block' : 'none';\n",
              "\n",
              "        async function convertToInteractive(key) {\n",
              "          const element = document.querySelector('#df-388fa903-11fa-4571-9b17-15880c410698');\n",
              "          const dataTable =\n",
              "            await google.colab.kernel.invokeFunction('convertToInteractive',\n",
              "                                                     [key], {});\n",
              "          if (!dataTable) return;\n",
              "\n",
              "          const docLinkHtml = 'Like what you see? Visit the ' +\n",
              "            '<a target=\"_blank\" href=https://colab.research.google.com/notebooks/data_table.ipynb>data table notebook</a>'\n",
              "            + ' to learn more about interactive tables.';\n",
              "          element.innerHTML = '';\n",
              "          dataTable['output_type'] = 'display_data';\n",
              "          await google.colab.output.renderOutput(dataTable, element);\n",
              "          const docLink = document.createElement('div');\n",
              "          docLink.innerHTML = docLinkHtml;\n",
              "          element.appendChild(docLink);\n",
              "        }\n",
              "      </script>\n",
              "    </div>\n",
              "  </div>\n",
              "  "
            ]
          },
          "metadata": {},
          "execution_count": 26
        }
      ]
    },
    {
      "cell_type": "code",
      "source": [
        "from sklearn.preprocessing import StandardScaler"
      ],
      "metadata": {
        "id": "Niin2xjHXXZx"
      },
      "execution_count": null,
      "outputs": []
    },
    {
      "cell_type": "code",
      "source": [
        "previsores_esc = StandardScaler().fit_transform(previsores)"
      ],
      "metadata": {
        "id": "4AWMuxZzXbuU"
      },
      "execution_count": null,
      "outputs": []
    },
    {
      "cell_type": "code",
      "source": [
        "previsores_esc"
      ],
      "metadata": {
        "colab": {
          "base_uri": "https://localhost:8080/"
        },
        "id": "fNS791qYXfB-",
        "outputId": "b8ba8d28-4818-440d-be3a-e938649b8870"
      },
      "execution_count": null,
      "outputs": [
        {
          "output_type": "execute_result",
          "data": {
            "text/plain": [
              "array([[ 1.09863237, -0.02887068,  1.44690578, ..., -0.55924213,\n",
              "         3.01985316, -0.10298818],\n",
              "       [ 1.47314983, -0.02887068,  0.58801129, ..., -0.55924213,\n",
              "        -0.33114193, -0.10298818],\n",
              "       [ 0.72411491, -0.02887068,  1.01745854, ..., -0.55924213,\n",
              "        -0.33114193, -0.10298818],\n",
              "       ...,\n",
              "       [-1.52298986, -0.02887068, -1.55922492, ..., -0.55924213,\n",
              "        -0.33114193, -0.10298818],\n",
              "       [-1.1484724 , -0.02887068, -1.12977767, ..., -0.55924213,\n",
              "        -0.33114193, -0.10298818],\n",
              "       [-1.52298986, -0.02887068, -1.55922492, ..., -0.55924213,\n",
              "        -0.33114193, -0.10298818]])"
            ]
          },
          "metadata": {},
          "execution_count": 29
        }
      ]
    },
    {
      "cell_type": "code",
      "source": [
        "previsoresdf = pd.DataFrame(previsores_esc)\n",
        "previsoresdf"
      ],
      "metadata": {
        "colab": {
          "base_uri": "https://localhost:8080/",
          "height": 423
        },
        "id": "iCiRoPllXo0r",
        "outputId": "0de7b52e-36da-46f6-aca8-a17037f4e284"
      },
      "execution_count": null,
      "outputs": [
        {
          "output_type": "execute_result",
          "data": {
            "text/plain": [
              "               0         1         2         3         4         5         6  \\\n",
              "0       1.098632 -0.028871  1.446906 -0.298424 -1.352584 -0.030969 -0.559242   \n",
              "1       1.473150 -0.028871  0.588011  3.350934  0.739326 -0.030969 -0.559242   \n",
              "2       0.724115 -0.028871  1.017459 -0.298424  0.739326 -0.030969 -0.559242   \n",
              "3       0.724115 -0.028871  0.158564  3.350934  0.739326 -0.030969 -0.559242   \n",
              "4       0.349597 -0.028871  0.588011 -0.298424 -1.352584 -0.030969  1.788134   \n",
              "...          ...       ...       ...       ...       ...       ...       ...   \n",
              "829704 -0.399437 -0.028871 -0.700330 -0.298424  0.739326 -0.030969 -0.559242   \n",
              "829705 -0.399437 -0.028871 -0.270883 -0.298424  0.739326 -0.030969 -0.559242   \n",
              "829706 -1.522990 -0.028871 -1.559225 -0.298424  0.739326 -0.030969 -0.559242   \n",
              "829707 -1.148472 -0.028871 -1.129778  3.350934  0.739326 -0.030969 -0.559242   \n",
              "829708 -1.522990 -0.028871 -1.559225 -0.298424  0.739326 -0.030969 -0.559242   \n",
              "\n",
              "               7         8  \n",
              "0       3.019853 -0.102988  \n",
              "1      -0.331142 -0.102988  \n",
              "2      -0.331142 -0.102988  \n",
              "3      -0.331142 -0.102988  \n",
              "4      -0.331142 -0.102988  \n",
              "...          ...       ...  \n",
              "829704 -0.331142 -0.102988  \n",
              "829705 -0.331142 -0.102988  \n",
              "829706 -0.331142 -0.102988  \n",
              "829707 -0.331142 -0.102988  \n",
              "829708 -0.331142 -0.102988  \n",
              "\n",
              "[829709 rows x 9 columns]"
            ],
            "text/html": [
              "\n",
              "  <div id=\"df-5b2340d9-4bb3-47f5-9b02-0c034a2eb0c6\">\n",
              "    <div class=\"colab-df-container\">\n",
              "      <div>\n",
              "<style scoped>\n",
              "    .dataframe tbody tr th:only-of-type {\n",
              "        vertical-align: middle;\n",
              "    }\n",
              "\n",
              "    .dataframe tbody tr th {\n",
              "        vertical-align: top;\n",
              "    }\n",
              "\n",
              "    .dataframe thead th {\n",
              "        text-align: right;\n",
              "    }\n",
              "</style>\n",
              "<table border=\"1\" class=\"dataframe\">\n",
              "  <thead>\n",
              "    <tr style=\"text-align: right;\">\n",
              "      <th></th>\n",
              "      <th>0</th>\n",
              "      <th>1</th>\n",
              "      <th>2</th>\n",
              "      <th>3</th>\n",
              "      <th>4</th>\n",
              "      <th>5</th>\n",
              "      <th>6</th>\n",
              "      <th>7</th>\n",
              "      <th>8</th>\n",
              "    </tr>\n",
              "  </thead>\n",
              "  <tbody>\n",
              "    <tr>\n",
              "      <th>0</th>\n",
              "      <td>1.098632</td>\n",
              "      <td>-0.028871</td>\n",
              "      <td>1.446906</td>\n",
              "      <td>-0.298424</td>\n",
              "      <td>-1.352584</td>\n",
              "      <td>-0.030969</td>\n",
              "      <td>-0.559242</td>\n",
              "      <td>3.019853</td>\n",
              "      <td>-0.102988</td>\n",
              "    </tr>\n",
              "    <tr>\n",
              "      <th>1</th>\n",
              "      <td>1.473150</td>\n",
              "      <td>-0.028871</td>\n",
              "      <td>0.588011</td>\n",
              "      <td>3.350934</td>\n",
              "      <td>0.739326</td>\n",
              "      <td>-0.030969</td>\n",
              "      <td>-0.559242</td>\n",
              "      <td>-0.331142</td>\n",
              "      <td>-0.102988</td>\n",
              "    </tr>\n",
              "    <tr>\n",
              "      <th>2</th>\n",
              "      <td>0.724115</td>\n",
              "      <td>-0.028871</td>\n",
              "      <td>1.017459</td>\n",
              "      <td>-0.298424</td>\n",
              "      <td>0.739326</td>\n",
              "      <td>-0.030969</td>\n",
              "      <td>-0.559242</td>\n",
              "      <td>-0.331142</td>\n",
              "      <td>-0.102988</td>\n",
              "    </tr>\n",
              "    <tr>\n",
              "      <th>3</th>\n",
              "      <td>0.724115</td>\n",
              "      <td>-0.028871</td>\n",
              "      <td>0.158564</td>\n",
              "      <td>3.350934</td>\n",
              "      <td>0.739326</td>\n",
              "      <td>-0.030969</td>\n",
              "      <td>-0.559242</td>\n",
              "      <td>-0.331142</td>\n",
              "      <td>-0.102988</td>\n",
              "    </tr>\n",
              "    <tr>\n",
              "      <th>4</th>\n",
              "      <td>0.349597</td>\n",
              "      <td>-0.028871</td>\n",
              "      <td>0.588011</td>\n",
              "      <td>-0.298424</td>\n",
              "      <td>-1.352584</td>\n",
              "      <td>-0.030969</td>\n",
              "      <td>1.788134</td>\n",
              "      <td>-0.331142</td>\n",
              "      <td>-0.102988</td>\n",
              "    </tr>\n",
              "    <tr>\n",
              "      <th>...</th>\n",
              "      <td>...</td>\n",
              "      <td>...</td>\n",
              "      <td>...</td>\n",
              "      <td>...</td>\n",
              "      <td>...</td>\n",
              "      <td>...</td>\n",
              "      <td>...</td>\n",
              "      <td>...</td>\n",
              "      <td>...</td>\n",
              "    </tr>\n",
              "    <tr>\n",
              "      <th>829704</th>\n",
              "      <td>-0.399437</td>\n",
              "      <td>-0.028871</td>\n",
              "      <td>-0.700330</td>\n",
              "      <td>-0.298424</td>\n",
              "      <td>0.739326</td>\n",
              "      <td>-0.030969</td>\n",
              "      <td>-0.559242</td>\n",
              "      <td>-0.331142</td>\n",
              "      <td>-0.102988</td>\n",
              "    </tr>\n",
              "    <tr>\n",
              "      <th>829705</th>\n",
              "      <td>-0.399437</td>\n",
              "      <td>-0.028871</td>\n",
              "      <td>-0.270883</td>\n",
              "      <td>-0.298424</td>\n",
              "      <td>0.739326</td>\n",
              "      <td>-0.030969</td>\n",
              "      <td>-0.559242</td>\n",
              "      <td>-0.331142</td>\n",
              "      <td>-0.102988</td>\n",
              "    </tr>\n",
              "    <tr>\n",
              "      <th>829706</th>\n",
              "      <td>-1.522990</td>\n",
              "      <td>-0.028871</td>\n",
              "      <td>-1.559225</td>\n",
              "      <td>-0.298424</td>\n",
              "      <td>0.739326</td>\n",
              "      <td>-0.030969</td>\n",
              "      <td>-0.559242</td>\n",
              "      <td>-0.331142</td>\n",
              "      <td>-0.102988</td>\n",
              "    </tr>\n",
              "    <tr>\n",
              "      <th>829707</th>\n",
              "      <td>-1.148472</td>\n",
              "      <td>-0.028871</td>\n",
              "      <td>-1.129778</td>\n",
              "      <td>3.350934</td>\n",
              "      <td>0.739326</td>\n",
              "      <td>-0.030969</td>\n",
              "      <td>-0.559242</td>\n",
              "      <td>-0.331142</td>\n",
              "      <td>-0.102988</td>\n",
              "    </tr>\n",
              "    <tr>\n",
              "      <th>829708</th>\n",
              "      <td>-1.522990</td>\n",
              "      <td>-0.028871</td>\n",
              "      <td>-1.559225</td>\n",
              "      <td>-0.298424</td>\n",
              "      <td>0.739326</td>\n",
              "      <td>-0.030969</td>\n",
              "      <td>-0.559242</td>\n",
              "      <td>-0.331142</td>\n",
              "      <td>-0.102988</td>\n",
              "    </tr>\n",
              "  </tbody>\n",
              "</table>\n",
              "<p>829709 rows × 9 columns</p>\n",
              "</div>\n",
              "      <button class=\"colab-df-convert\" onclick=\"convertToInteractive('df-5b2340d9-4bb3-47f5-9b02-0c034a2eb0c6')\"\n",
              "              title=\"Convert this dataframe to an interactive table.\"\n",
              "              style=\"display:none;\">\n",
              "        \n",
              "  <svg xmlns=\"http://www.w3.org/2000/svg\" height=\"24px\"viewBox=\"0 0 24 24\"\n",
              "       width=\"24px\">\n",
              "    <path d=\"M0 0h24v24H0V0z\" fill=\"none\"/>\n",
              "    <path d=\"M18.56 5.44l.94 2.06.94-2.06 2.06-.94-2.06-.94-.94-2.06-.94 2.06-2.06.94zm-11 1L8.5 8.5l.94-2.06 2.06-.94-2.06-.94L8.5 2.5l-.94 2.06-2.06.94zm10 10l.94 2.06.94-2.06 2.06-.94-2.06-.94-.94-2.06-.94 2.06-2.06.94z\"/><path d=\"M17.41 7.96l-1.37-1.37c-.4-.4-.92-.59-1.43-.59-.52 0-1.04.2-1.43.59L10.3 9.45l-7.72 7.72c-.78.78-.78 2.05 0 2.83L4 21.41c.39.39.9.59 1.41.59.51 0 1.02-.2 1.41-.59l7.78-7.78 2.81-2.81c.8-.78.8-2.07 0-2.86zM5.41 20L4 18.59l7.72-7.72 1.47 1.35L5.41 20z\"/>\n",
              "  </svg>\n",
              "      </button>\n",
              "      \n",
              "  <style>\n",
              "    .colab-df-container {\n",
              "      display:flex;\n",
              "      flex-wrap:wrap;\n",
              "      gap: 12px;\n",
              "    }\n",
              "\n",
              "    .colab-df-convert {\n",
              "      background-color: #E8F0FE;\n",
              "      border: none;\n",
              "      border-radius: 50%;\n",
              "      cursor: pointer;\n",
              "      display: none;\n",
              "      fill: #1967D2;\n",
              "      height: 32px;\n",
              "      padding: 0 0 0 0;\n",
              "      width: 32px;\n",
              "    }\n",
              "\n",
              "    .colab-df-convert:hover {\n",
              "      background-color: #E2EBFA;\n",
              "      box-shadow: 0px 1px 2px rgba(60, 64, 67, 0.3), 0px 1px 3px 1px rgba(60, 64, 67, 0.15);\n",
              "      fill: #174EA6;\n",
              "    }\n",
              "\n",
              "    [theme=dark] .colab-df-convert {\n",
              "      background-color: #3B4455;\n",
              "      fill: #D2E3FC;\n",
              "    }\n",
              "\n",
              "    [theme=dark] .colab-df-convert:hover {\n",
              "      background-color: #434B5C;\n",
              "      box-shadow: 0px 1px 3px 1px rgba(0, 0, 0, 0.15);\n",
              "      filter: drop-shadow(0px 1px 2px rgba(0, 0, 0, 0.3));\n",
              "      fill: #FFFFFF;\n",
              "    }\n",
              "  </style>\n",
              "\n",
              "      <script>\n",
              "        const buttonEl =\n",
              "          document.querySelector('#df-5b2340d9-4bb3-47f5-9b02-0c034a2eb0c6 button.colab-df-convert');\n",
              "        buttonEl.style.display =\n",
              "          google.colab.kernel.accessAllowed ? 'block' : 'none';\n",
              "\n",
              "        async function convertToInteractive(key) {\n",
              "          const element = document.querySelector('#df-5b2340d9-4bb3-47f5-9b02-0c034a2eb0c6');\n",
              "          const dataTable =\n",
              "            await google.colab.kernel.invokeFunction('convertToInteractive',\n",
              "                                                     [key], {});\n",
              "          if (!dataTable) return;\n",
              "\n",
              "          const docLinkHtml = 'Like what you see? Visit the ' +\n",
              "            '<a target=\"_blank\" href=https://colab.research.google.com/notebooks/data_table.ipynb>data table notebook</a>'\n",
              "            + ' to learn more about interactive tables.';\n",
              "          element.innerHTML = '';\n",
              "          dataTable['output_type'] = 'display_data';\n",
              "          await google.colab.output.renderOutput(dataTable, element);\n",
              "          const docLink = document.createElement('div');\n",
              "          docLink.innerHTML = docLinkHtml;\n",
              "          element.appendChild(docLink);\n",
              "        }\n",
              "      </script>\n",
              "    </div>\n",
              "  </div>\n",
              "  "
            ]
          },
          "metadata": {},
          "execution_count": 30
        }
      ]
    },
    {
      "cell_type": "markdown",
      "source": [
        "# Bases de treino e teste"
      ],
      "metadata": {
        "id": "1NSKtHn3YgEE"
      }
    },
    {
      "cell_type": "code",
      "source": [
        "from sklearn.model_selection import train_test_split"
      ],
      "metadata": {
        "id": "unwDq_vsYjbB"
      },
      "execution_count": null,
      "outputs": []
    },
    {
      "cell_type": "code",
      "source": [
        "x_treino, x_teste, y_treino, y_teste = train_test_split(previsores_esc, alvo, test_size = 0.1, random_state = 0)"
      ],
      "metadata": {
        "id": "KtdJEdxHYrzx"
      },
      "execution_count": null,
      "outputs": []
    },
    {
      "cell_type": "code",
      "source": [
        "x_treino.shape"
      ],
      "metadata": {
        "colab": {
          "base_uri": "https://localhost:8080/"
        },
        "id": "VHQcOzvZY-e-",
        "outputId": "46123043-1522-4e19-82ee-7f314bc747dc"
      },
      "execution_count": null,
      "outputs": [
        {
          "output_type": "execute_result",
          "data": {
            "text/plain": [
              "(746738, 9)"
            ]
          },
          "metadata": {},
          "execution_count": 33
        }
      ]
    },
    {
      "cell_type": "code",
      "source": [
        "x_teste.shape"
      ],
      "metadata": {
        "colab": {
          "base_uri": "https://localhost:8080/"
        },
        "id": "iLgbDP51ZBqR",
        "outputId": "b6c6fe42-4b85-401b-cf56-3d25d6d0ec07"
      },
      "execution_count": null,
      "outputs": [
        {
          "output_type": "execute_result",
          "data": {
            "text/plain": [
              "(82971, 9)"
            ]
          },
          "metadata": {},
          "execution_count": 34
        }
      ]
    },
    {
      "cell_type": "code",
      "source": [
        "y_treino.shape"
      ],
      "metadata": {
        "colab": {
          "base_uri": "https://localhost:8080/"
        },
        "id": "lR76MhR6ZFjC",
        "outputId": "1e9d8042-bc7a-46a4-f102-fd9e7d156bf1"
      },
      "execution_count": null,
      "outputs": [
        {
          "output_type": "execute_result",
          "data": {
            "text/plain": [
              "(746738,)"
            ]
          },
          "metadata": {},
          "execution_count": 35
        }
      ]
    },
    {
      "cell_type": "code",
      "source": [
        "y_teste.shape"
      ],
      "metadata": {
        "colab": {
          "base_uri": "https://localhost:8080/"
        },
        "id": "Dk35zCgvZKUx",
        "outputId": "0b7274e6-bb8c-46b3-d405-a76932016f40"
      },
      "execution_count": null,
      "outputs": [
        {
          "output_type": "execute_result",
          "data": {
            "text/plain": [
              "(82971,)"
            ]
          },
          "metadata": {},
          "execution_count": 36
        }
      ]
    },
    {
      "cell_type": "markdown",
      "source": [
        "# Árvore de decisão"
      ],
      "metadata": {
        "id": "D9WrjAc1aD37"
      }
    },
    {
      "cell_type": "code",
      "source": [
        "from sklearn.tree import DecisionTreeClassifier\n",
        "from sklearn import tree"
      ],
      "metadata": {
        "id": "YaSoE5KQaIRt"
      },
      "execution_count": null,
      "outputs": []
    },
    {
      "cell_type": "code",
      "source": [
        "arvore = DecisionTreeClassifier(criterion='entropy', random_state = 0, max_depth=3)\n",
        "_arvore = arvore.fit(x_treino, y_treino)"
      ],
      "metadata": {
        "id": "7SCBP-2RaRSc"
      },
      "execution_count": null,
      "outputs": []
    },
    {
      "cell_type": "code",
      "source": [
        "tree.plot_tree(_arvore)"
      ],
      "metadata": {
        "colab": {
          "base_uri": "https://localhost:8080/",
          "height": 303
        },
        "id": "dbm5t0qyaZoU",
        "outputId": "d1a772aa-4e1c-47e7-d22f-27fcac767c29"
      },
      "execution_count": null,
      "outputs": [
        {
          "output_type": "execute_result",
          "data": {
            "text/plain": [
              "[Text(0.5, 0.75, 'X[8] <= 4.803\\nentropy = 0.084\\nsamples = 746738\\nvalue = [738880, 7858]'),\n",
              " Text(0.25, 0.25, 'entropy = 0.0\\nsamples = 738880\\nvalue = [738880, 0]'),\n",
              " Text(0.75, 0.25, 'entropy = 0.0\\nsamples = 7858\\nvalue = [0, 7858]')]"
            ]
          },
          "metadata": {},
          "execution_count": 39
        },
        {
          "output_type": "display_data",
          "data": {
            "text/plain": [
              "<Figure size 432x288 with 1 Axes>"
            ],
            "image/png": "[encoded data removed]"
          },
          "metadata": {
            "needs_background": "light"
          }
        }
      ]
    },
    {
      "cell_type": "code",
      "source": [
        "previsoes_arvore = arvore.predict(x_teste)\n",
        "previsoes_arvore"
      ],
      "metadata": {
        "colab": {
          "base_uri": "https://localhost:8080/"
        },
        "id": "qE2LVXCeagmV",
        "outputId": "77457572-2cff-40d5-b57d-fc2112b84681"
      },
      "execution_count": null,
      "outputs": [
        {
          "output_type": "execute_result",
          "data": {
            "text/plain": [
              "array([0, 0, 0, ..., 0, 0, 0])"
            ]
          },
          "metadata": {},
          "execution_count": 40
        }
      ]
    },
    {
      "cell_type": "code",
      "source": [
        "y_teste"
      ],
      "metadata": {
        "colab": {
          "base_uri": "https://localhost:8080/"
        },
        "id": "AxxS6_2BaqWJ",
        "outputId": "3bd3ba2d-7480-4e2e-dc64-3ff64be05830"
      },
      "execution_count": null,
      "outputs": [
        {
          "output_type": "execute_result",
          "data": {
            "text/plain": [
              "array([0, 0, 0, ..., 0, 0, 0])"
            ]
          },
          "metadata": {},
          "execution_count": 41
        }
      ]
    },
    {
      "cell_type": "code",
      "source": [
        "from sklearn.metrics import accuracy_score, confusion_matrix, classification_report"
      ],
      "metadata": {
        "id": "VH0e2hffaxUG"
      },
      "execution_count": null,
      "outputs": []
    },
    {
      "cell_type": "code",
      "source": [
        "print(\"Acurácia: %.2f%%\" % (accuracy_score(y_teste, previsoes_arvore) * 100.0))"
      ],
      "metadata": {
        "colab": {
          "base_uri": "https://localhost:8080/"
        },
        "id": "aC9xqOtTa1Pn",
        "outputId": "42c256fc-6bd4-47a5-bd0b-18e5f076fbce"
      },
      "execution_count": null,
      "outputs": [
        {
          "output_type": "stream",
          "name": "stdout",
          "text": [
            "Acurácia: 100.00%\n"
          ]
        }
      ]
    },
    {
      "cell_type": "code",
      "source": [
        "confusion_matrix(y_teste, previsoes_arvore)"
      ],
      "metadata": {
        "colab": {
          "base_uri": "https://localhost:8080/"
        },
        "id": "3YBOdDrxa72j",
        "outputId": "48437c3b-a72b-438b-ddc9-dcc2037b6679"
      },
      "execution_count": null,
      "outputs": [
        {
          "output_type": "execute_result",
          "data": {
            "text/plain": [
              "array([[82121,     0],\n",
              "       [    0,   850]])"
            ]
          },
          "metadata": {},
          "execution_count": 44
        }
      ]
    },
    {
      "cell_type": "code",
      "source": [
        "print(classification_report(y_teste, previsoes_arvore))"
      ],
      "metadata": {
        "colab": {
          "base_uri": "https://localhost:8080/"
        },
        "id": "_NsQI2zMbSCJ",
        "outputId": "c46a4440-ea2f-4365-c827-cf12d6b5f7de"
      },
      "execution_count": null,
      "outputs": [
        {
          "output_type": "stream",
          "name": "stdout",
          "text": [
            "              precision    recall  f1-score   support\n",
            "\n",
            "           0       1.00      1.00      1.00     82121\n",
            "           1       1.00      1.00      1.00       850\n",
            "\n",
            "    accuracy                           1.00     82971\n",
            "   macro avg       1.00      1.00      1.00     82971\n",
            "weighted avg       1.00      1.00      1.00     82971\n",
            "\n"
          ]
        }
      ]
    },
    {
      "cell_type": "markdown",
      "source": [
        "Análise dados de treino"
      ],
      "metadata": {
        "id": "DX4grEZVcGmB"
      }
    },
    {
      "cell_type": "code",
      "source": [
        "previsoes_treino = arvore.predict(x_treino)\n",
        "previsoes_treino"
      ],
      "metadata": {
        "colab": {
          "base_uri": "https://localhost:8080/"
        },
        "id": "bix_vXfVcIlM",
        "outputId": "27be19a4-5381-4536-cc4a-81e6ee51473b"
      },
      "execution_count": null,
      "outputs": [
        {
          "output_type": "execute_result",
          "data": {
            "text/plain": [
              "array([0, 0, 0, ..., 0, 0, 0])"
            ]
          },
          "metadata": {},
          "execution_count": 46
        }
      ]
    },
    {
      "cell_type": "code",
      "source": [
        "accuracy_score(y_treino, previsoes_treino)"
      ],
      "metadata": {
        "colab": {
          "base_uri": "https://localhost:8080/"
        },
        "id": "wDAMrtGqcQWE",
        "outputId": "a1dea3ca-19f2-4f37-82f9-9849db1115e3"
      },
      "execution_count": null,
      "outputs": [
        {
          "output_type": "execute_result",
          "data": {
            "text/plain": [
              "1.0"
            ]
          },
          "metadata": {},
          "execution_count": 47
        }
      ]
    },
    {
      "cell_type": "code",
      "source": [
        "print(\"Acurácia: %.2f%%\" % (accuracy_score(y_treino, previsoes_treino) * 100.0))"
      ],
      "metadata": {
        "colab": {
          "base_uri": "https://localhost:8080/"
        },
        "id": "b-a4daKEcUTW",
        "outputId": "1cd71a16-941f-4305-a562-54fc59f1cd5b"
      },
      "execution_count": null,
      "outputs": [
        {
          "output_type": "stream",
          "name": "stdout",
          "text": [
            "Acurácia: 100.00%\n"
          ]
        }
      ]
    },
    {
      "cell_type": "code",
      "source": [
        "confusion_matrix(y_treino, previsoes_treino)"
      ],
      "metadata": {
        "colab": {
          "base_uri": "https://localhost:8080/"
        },
        "id": "b8R76Gq9ccDR",
        "outputId": "54c36efa-9afb-4677-c6ab-cfdbe36e2f20"
      },
      "execution_count": null,
      "outputs": [
        {
          "output_type": "execute_result",
          "data": {
            "text/plain": [
              "array([[738880,      0],\n",
              "       [     0,   7858]])"
            ]
          },
          "metadata": {},
          "execution_count": 49
        }
      ]
    },
    {
      "cell_type": "markdown",
      "source": [
        "# Random Forest"
      ],
      "metadata": {
        "id": "Kv19zVqjiOuD"
      }
    },
    {
      "cell_type": "code",
      "source": [
        "from sklearn.ensemble import RandomForestClassifier"
      ],
      "metadata": {
        "id": "dCN28D_DiQjY"
      },
      "execution_count": null,
      "outputs": []
    },
    {
      "cell_type": "code",
      "source": [
        "random = RandomForestClassifier(n_estimators=150, criterion='entropy', random_state = 0, max_depth=4)\n",
        "random.fit(x_treino, y_treino)"
      ],
      "metadata": {
        "colab": {
          "base_uri": "https://localhost:8080/"
        },
        "id": "aP2TOT90iXCm",
        "outputId": "c5b0b005-255a-44f5-ae4e-4ee8b80ec4f5"
      },
      "execution_count": null,
      "outputs": [
        {
          "output_type": "execute_result",
          "data": {
            "text/plain": [
              "RandomForestClassifier(criterion='entropy', max_depth=4, n_estimators=150,\n",
              "                       random_state=0)"
            ]
          },
          "metadata": {},
          "execution_count": 51
        }
      ]
    },
    {
      "cell_type": "code",
      "source": [
        "previsoes_random = random.predict(x_teste)\n",
        "previsoes_random"
      ],
      "metadata": {
        "colab": {
          "base_uri": "https://localhost:8080/"
        },
        "id": "PpBOwpToks0X",
        "outputId": "c238f390-fd7e-4441-9d66-5c15550bd493"
      },
      "execution_count": null,
      "outputs": [
        {
          "output_type": "execute_result",
          "data": {
            "text/plain": [
              "array([0, 0, 0, ..., 0, 0, 0])"
            ]
          },
          "metadata": {},
          "execution_count": 52
        }
      ]
    },
    {
      "cell_type": "code",
      "source": [
        "y_teste"
      ],
      "metadata": {
        "colab": {
          "base_uri": "https://localhost:8080/"
        },
        "id": "GYWYjZZskx3H",
        "outputId": "ff289060-8c87-4f29-e908-3b2f0bc5a287"
      },
      "execution_count": null,
      "outputs": [
        {
          "output_type": "execute_result",
          "data": {
            "text/plain": [
              "array([0, 0, 0, ..., 0, 0, 0])"
            ]
          },
          "metadata": {},
          "execution_count": 53
        }
      ]
    },
    {
      "cell_type": "code",
      "source": [
        "from sklearn.metrics import accuracy_score, confusion_matrix, classification_report"
      ],
      "metadata": {
        "id": "Yer2e4Vtk2Bo"
      },
      "execution_count": null,
      "outputs": []
    },
    {
      "cell_type": "code",
      "source": [
        "print(\"Acurácia: %.2f%%\" % (accuracy_score(y_teste, previsoes_random) * 100.0))"
      ],
      "metadata": {
        "colab": {
          "base_uri": "https://localhost:8080/"
        },
        "id": "6eMTksyKk63S",
        "outputId": "3ab4aed8-145c-48d8-ac55-812caaa675f3"
      },
      "execution_count": null,
      "outputs": [
        {
          "output_type": "stream",
          "name": "stdout",
          "text": [
            "Acurácia: 100.00%\n"
          ]
        }
      ]
    },
    {
      "cell_type": "code",
      "source": [
        "confusion_matrix(y_teste, previsoes_random)"
      ],
      "metadata": {
        "colab": {
          "base_uri": "https://localhost:8080/"
        },
        "id": "xL3byG1HlIGN",
        "outputId": "a5208a8a-6eb6-40b1-8223-82dfbcb0bdf8"
      },
      "execution_count": null,
      "outputs": [
        {
          "output_type": "execute_result",
          "data": {
            "text/plain": [
              "array([[82121,     0],\n",
              "       [    0,   850]])"
            ]
          },
          "metadata": {},
          "execution_count": 56
        }
      ]
    },
    {
      "cell_type": "code",
      "source": [
        "print(classification_report(y_teste, previsoes_random))"
      ],
      "metadata": {
        "colab": {
          "base_uri": "https://localhost:8080/"
        },
        "id": "PVNP8WWxlMP-",
        "outputId": "73306c5c-303c-49d9-fe6c-6426750675d7"
      },
      "execution_count": null,
      "outputs": [
        {
          "output_type": "stream",
          "name": "stdout",
          "text": [
            "              precision    recall  f1-score   support\n",
            "\n",
            "           0       1.00      1.00      1.00     82121\n",
            "           1       1.00      1.00      1.00       850\n",
            "\n",
            "    accuracy                           1.00     82971\n",
            "   macro avg       1.00      1.00      1.00     82971\n",
            "weighted avg       1.00      1.00      1.00     82971\n",
            "\n"
          ]
        }
      ]
    },
    {
      "cell_type": "markdown",
      "source": [
        "Análise dados de treino"
      ],
      "metadata": {
        "id": "2KtTPYPplR_D"
      }
    },
    {
      "cell_type": "code",
      "source": [
        "previsoes_treino = random.predict(x_treino)\n",
        "previsoes_treino"
      ],
      "metadata": {
        "colab": {
          "base_uri": "https://localhost:8080/"
        },
        "id": "ylyaVqb4lTYK",
        "outputId": "9fc6db90-5671-435c-8022-e06db323b5d7"
      },
      "execution_count": null,
      "outputs": [
        {
          "output_type": "execute_result",
          "data": {
            "text/plain": [
              "array([0, 0, 0, ..., 0, 0, 0])"
            ]
          },
          "metadata": {},
          "execution_count": 58
        }
      ]
    },
    {
      "cell_type": "code",
      "source": [
        "accuracy_score(y_treino, previsoes_treino)"
      ],
      "metadata": {
        "colab": {
          "base_uri": "https://localhost:8080/"
        },
        "id": "kte5BN_enQT7",
        "outputId": "9d409b52-dadc-459c-fccd-583fedca3a77"
      },
      "execution_count": null,
      "outputs": [
        {
          "output_type": "execute_result",
          "data": {
            "text/plain": [
              "1.0"
            ]
          },
          "metadata": {},
          "execution_count": 59
        }
      ]
    },
    {
      "cell_type": "code",
      "source": [
        "confusion_matrix(y_treino, previsoes_treino)"
      ],
      "metadata": {
        "colab": {
          "base_uri": "https://localhost:8080/"
        },
        "id": "Hws8lcQLnVSI",
        "outputId": "f7d4fa6a-218b-42e9-a442-23b018f0951f"
      },
      "execution_count": null,
      "outputs": [
        {
          "output_type": "execute_result",
          "data": {
            "text/plain": [
              "array([[738880,      0],\n",
              "       [     0,   7858]])"
            ]
          },
          "metadata": {},
          "execution_count": 60
        }
      ]
    },
    {
      "cell_type": "markdown",
      "source": [
        "# Regressão logística"
      ],
      "metadata": {
        "id": "tS7BB58fpW1t"
      }
    },
    {
      "cell_type": "code",
      "source": [
        "from sklearn.linear_model import LogisticRegression"
      ],
      "metadata": {
        "id": "U6PkGxGXpZc9"
      },
      "execution_count": null,
      "outputs": []
    },
    {
      "cell_type": "code",
      "source": [
        "logistica = LogisticRegression(random_state=1, max_iter=1500, penalty=\"l2\",\n",
        "                               tol=0.0001, C=2,solver=\"lbfgs\")\n",
        "logistica.fit(x_treino, y_treino)"
      ],
      "metadata": {
        "colab": {
          "base_uri": "https://localhost:8080/"
        },
        "id": "m9iA5ZU5sMQk",
        "outputId": "d1231f24-efea-47a7-cd87-9646dbaab734"
      },
      "execution_count": null,
      "outputs": [
        {
          "output_type": "execute_result",
          "data": {
            "text/plain": [
              "LogisticRegression(C=2, max_iter=1500, random_state=1)"
            ]
          },
          "metadata": {},
          "execution_count": 62
        }
      ]
    },
    {
      "cell_type": "code",
      "source": [
        "logistica.intercept_"
      ],
      "metadata": {
        "colab": {
          "base_uri": "https://localhost:8080/"
        },
        "id": "hdyPtj69sfkT",
        "outputId": "85ecb14d-bd4d-447c-ae22-06cdfe13a992"
      },
      "execution_count": null,
      "outputs": [
        {
          "output_type": "execute_result",
          "data": {
            "text/plain": [
              "array([-15.25106525])"
            ]
          },
          "metadata": {},
          "execution_count": 63
        }
      ]
    },
    {
      "cell_type": "code",
      "source": [
        "logistica.coef_"
      ],
      "metadata": {
        "colab": {
          "base_uri": "https://localhost:8080/"
        },
        "id": "piKjkl-nsuD3",
        "outputId": "ad493f45-6079-417f-f3ea-70937b12fcdb"
      },
      "execution_count": null,
      "outputs": [
        {
          "output_type": "execute_result",
          "data": {
            "text/plain": [
              "array([[ 1.54610249e-03, -1.23351245e-04, -2.26454516e-02,\n",
              "         1.37446939e-02, -3.29657928e-01, -1.06076685e-02,\n",
              "        -1.77801004e-01, -1.10805705e-01,  2.64067245e+00]])"
            ]
          },
          "metadata": {},
          "execution_count": 64
        }
      ]
    },
    {
      "cell_type": "code",
      "source": [
        "previsoes_logistica = logistica.predict(x_teste)\n",
        "previsoes_logistica"
      ],
      "metadata": {
        "colab": {
          "base_uri": "https://localhost:8080/"
        },
        "id": "rM1unW1isy_d",
        "outputId": "94a8ba67-d446-4a8b-9973-c8562b7c63a2"
      },
      "execution_count": null,
      "outputs": [
        {
          "output_type": "execute_result",
          "data": {
            "text/plain": [
              "array([0, 0, 0, ..., 0, 0, 0])"
            ]
          },
          "metadata": {},
          "execution_count": 65
        }
      ]
    },
    {
      "cell_type": "code",
      "source": [
        "from sklearn.metrics import accuracy_score, confusion_matrix, classification_report"
      ],
      "metadata": {
        "id": "PkNFu5XLs75Y"
      },
      "execution_count": null,
      "outputs": []
    },
    {
      "cell_type": "code",
      "source": [
        "print(\"Acurácia: %.2f%%\" % (accuracy_score(y_teste, previsoes_logistica) * 100.0))"
      ],
      "metadata": {
        "colab": {
          "base_uri": "https://localhost:8080/"
        },
        "id": "2r1JN6Zfs_vQ",
        "outputId": "684b8563-e03f-4fdd-bdd3-7193713bad0e"
      },
      "execution_count": null,
      "outputs": [
        {
          "output_type": "stream",
          "name": "stdout",
          "text": [
            "Acurácia: 100.00%\n"
          ]
        }
      ]
    },
    {
      "cell_type": "code",
      "source": [
        "confusion_matrix(y_teste, previsoes_logistica)"
      ],
      "metadata": {
        "colab": {
          "base_uri": "https://localhost:8080/"
        },
        "id": "t9A0KMh1tDLi",
        "outputId": "c34e19b8-2f5e-4446-e103-6a7f46e7fef8"
      },
      "execution_count": null,
      "outputs": [
        {
          "output_type": "execute_result",
          "data": {
            "text/plain": [
              "array([[82121,     0],\n",
              "       [    0,   850]])"
            ]
          },
          "metadata": {},
          "execution_count": 68
        }
      ]
    },
    {
      "cell_type": "code",
      "source": [
        "print(classification_report(y_teste, previsoes_logistica))"
      ],
      "metadata": {
        "colab": {
          "base_uri": "https://localhost:8080/"
        },
        "id": "ramfbZLbtIOV",
        "outputId": "14a5a718-aacf-4818-8e14-9e5bf0ed9ae3"
      },
      "execution_count": null,
      "outputs": [
        {
          "output_type": "stream",
          "name": "stdout",
          "text": [
            "              precision    recall  f1-score   support\n",
            "\n",
            "           0       1.00      1.00      1.00     82121\n",
            "           1       1.00      1.00      1.00       850\n",
            "\n",
            "    accuracy                           1.00     82971\n",
            "   macro avg       1.00      1.00      1.00     82971\n",
            "weighted avg       1.00      1.00      1.00     82971\n",
            "\n"
          ]
        }
      ]
    },
    {
      "cell_type": "markdown",
      "source": [
        "Análise dos dados de treino"
      ],
      "metadata": {
        "id": "vIos_W92tL8g"
      }
    },
    {
      "cell_type": "code",
      "source": [
        "previsoes_treino = logistica.predict(x_treino)\n",
        "previsoes_treino"
      ],
      "metadata": {
        "colab": {
          "base_uri": "https://localhost:8080/"
        },
        "id": "qGQuKdHxtPAi",
        "outputId": "b2edda13-c81a-48fe-ac8c-2868e490365e"
      },
      "execution_count": null,
      "outputs": [
        {
          "output_type": "execute_result",
          "data": {
            "text/plain": [
              "array([0, 0, 0, ..., 0, 0, 0])"
            ]
          },
          "metadata": {},
          "execution_count": 70
        }
      ]
    },
    {
      "cell_type": "code",
      "source": [
        "accuracy_score(y_treino, previsoes_treino)"
      ],
      "metadata": {
        "colab": {
          "base_uri": "https://localhost:8080/"
        },
        "id": "RuVmWpVytV14",
        "outputId": "8470c3b8-197c-4d4b-f916-c2a909bb72c2"
      },
      "execution_count": null,
      "outputs": [
        {
          "output_type": "execute_result",
          "data": {
            "text/plain": [
              "1.0"
            ]
          },
          "metadata": {},
          "execution_count": 71
        }
      ]
    },
    {
      "cell_type": "code",
      "source": [
        "confusion_matrix(y_treino, previsoes_treino)"
      ],
      "metadata": {
        "id": "Kct-Y5nXtY0O",
        "outputId": "39f6ec64-68f0-459d-f0e4-83bbfc8b060d",
        "colab": {
          "base_uri": "https://localhost:8080/"
        }
      },
      "execution_count": null,
      "outputs": [
        {
          "output_type": "execute_result",
          "data": {
            "text/plain": [
              "array([[738880,      0],\n",
              "       [     0,   7858]])"
            ]
          },
          "metadata": {},
          "execution_count": 72
        }
      ]
    }
  ]
}